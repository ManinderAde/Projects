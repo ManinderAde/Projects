{
 "cells": [
  {
   "cell_type": "markdown",
   "metadata": {},
   "source": [
    "1. Demonstrate how to create simple and multi-line strings, and check whether a string can change after its creation."
   ]
  },
  {
   "cell_type": "code",
   "execution_count": 5,
   "metadata": {},
   "outputs": [
    {
     "name": "stdout",
     "output_type": "stream",
     "text": [
      "String one: This is a simple line\n",
      "String two: Passengers don't stay for 1 hour\n",
      "String three:\n",
      "Demonstrate how to create simple and multi-line strings, \n",
      "and check whether a string can change after its creation.\n",
      "\n"
     ]
    }
   ],
   "source": [
    "str1 = 'This is a simple line'\n",
    "str2 = \"Passengers don't stay for 1 hour\"\n",
    "str3 = '''\n",
    "Demonstrate how to create simple and multi-line strings, \n",
    "and check whether a string can change after its creation.\n",
    "'''\n",
    "print(f'String one: {str1}\\nString two: {str2}\\nString three:{str3}')\n"
   ]
  },
  {
   "cell_type": "code",
   "execution_count": 9,
   "metadata": {},
   "outputs": [
    {
     "name": "stdout",
     "output_type": "stream",
     "text": [
      "Oops!  The variable is a string and cant be changed to int\n"
     ]
    }
   ],
   "source": [
    "try:\n",
    "    x = int(str1)\n",
    "except ValueError:\n",
    "         print(\"Oops!  The variable is a string and cant be changed to int\")"
   ]
  },
  {
   "cell_type": "markdown",
   "metadata": {},
   "source": [
    "2. For a given string ‘Hello World!’, extract the following:\n",
    "\n",
    " \n",
    "\n",
    "H W\n",
    "o o\n",
    "llorld\n",
    "!dlroW olleH\n",
    "World!\n",
    "Hello"
   ]
  },
  {
   "cell_type": "code",
   "execution_count": 19,
   "metadata": {},
   "outputs": [
    {
     "name": "stdout",
     "output_type": "stream",
     "text": [
      "H W\n",
      "o o\n",
      "ll orld\n",
      "!dlroW olleH\n",
      "World!\n",
      "Hello\n"
     ]
    }
   ],
   "source": [
    "str4 = 'Hello World!'\n",
    "print(str4[0],str4[6])\n",
    "print(str4[4],str4[7])\n",
    "print(str4[2:4],str4[7:(len(str4)-1)])\n",
    "print(str4[::-1])\n",
    "print(str4[6:])\n",
    "print(str4[:5])"
   ]
  },
  {
   "cell_type": "markdown",
   "metadata": {},
   "source": [
    "3. For the following strings, determine which contain only alphabets, only digits, alphanumeric, which are in lowercase, and which are in uppercase. Also check whether str3 begins or ends with the word “Now”.\n",
    "\n",
    "Str1 = ‘Welcome’\n",
    "\n",
    "Str2 = ‘Hello World!’\n",
    "\n",
    "Str3 = ‘Now is the best time ever! ‘\n",
    "\n",
    "Str4 = ‘500017’\n",
    "\n",
    "Str5 = ‘IPhone 6’"
   ]
  },
  {
   "cell_type": "code",
   "execution_count": 28,
   "metadata": {},
   "outputs": [
    {
     "name": "stdout",
     "output_type": "stream",
     "text": [
      "Welcome : string is Alpha\n",
      "Hello World! : string def is not defined\n",
      "Now is the best time ever!  : string def is not defined\n",
      "500017 : string is digit\n",
      "IPhone 6 : string def is not defined\n"
     ]
    }
   ],
   "source": [
    "Str1 = 'Welcome'\n",
    "\n",
    "Str2 = 'Hello World!'\n",
    "\n",
    "Str3 = 'Now is the best time ever! '\n",
    "\n",
    "Str4 = '500017'\n",
    "\n",
    "Str5 = 'IPhone 6'\n",
    "\n",
    "def string_def(s):\n",
    "    assert type(s) is str\n",
    "    if s.isalpha():\n",
    "        print(s,\": string is Alpha\")\n",
    "    elif s.isdigit():\n",
    "        print(s, \": string is digit\")\n",
    "    elif s.isalnum():\n",
    "        print(s, \": string is Alphanumeric\")\n",
    "    elif s.islower():\n",
    "        print(s, \": string is lowercase\")\n",
    "    elif s.isalpha():\n",
    "        print(s,\": string is uppercase\")\n",
    "    else:\n",
    "        print(s,\": string def is not defined\")\n",
    "\n",
    "string_def(Str1)\n",
    "string_def(Str2)\n",
    "string_def(Str3)\n",
    "string_def(Str4)\n",
    "string_def(Str5)"
   ]
  },
  {
   "cell_type": "code",
   "execution_count": 31,
   "metadata": {},
   "outputs": [
    {
     "name": "stdout",
     "output_type": "stream",
     "text": [
      "Begins with Now\n"
     ]
    }
   ],
   "source": [
    "if Str3.startswith('Now'):\n",
    "    print(\"Begins with Now\")\n",
    "elif Str3.endswith('Now'):\n",
    "    print(\"Ends with Now\")"
   ]
  },
  {
   "cell_type": "markdown",
   "metadata": {},
   "source": [
    "4. Accept a sentence from the user. Convert the case of the input into title case."
   ]
  },
  {
   "cell_type": "code",
   "execution_count": 33,
   "metadata": {},
   "outputs": [
    {
     "name": "stdout",
     "output_type": "stream",
     "text": [
      "Please enter a sentence:program that reads an integer from the user\n",
      "Program That Reads An Integer From The User\n"
     ]
    }
   ],
   "source": [
    "stat = input(\"Please enter a sentence:\")\n",
    "print(stat.title())"
   ]
  },
  {
   "cell_type": "markdown",
   "metadata": {},
   "source": [
    "5. Write a program that reads an integer from the user. Then your program should display a message indicating whether the integer is even or odd."
   ]
  },
  {
   "cell_type": "code",
   "execution_count": 35,
   "metadata": {},
   "outputs": [
    {
     "name": "stdout",
     "output_type": "stream",
     "text": [
      "Please enter a sentence:4\n",
      "Its even\n"
     ]
    }
   ],
   "source": [
    "num1 = int(input(\"Please enter a sentence:\"))\n",
    "if num1%2 == 0:\n",
    "    print(\"It's even\")\n",
    "else:\n",
    "    print(\"It's odd\")\n"
   ]
  },
  {
   "cell_type": "markdown",
   "metadata": {},
   "source": [
    "6. Create a program that reads a letter of the alphabet from the user. If the user enters a, e, i, o or u then your program should display a message indicating that the entered letter is a vowel. Otherwise, the program should display a message that the entered letter is a consonant"
   ]
  },
  {
   "cell_type": "code",
   "execution_count": 37,
   "metadata": {},
   "outputs": [
    {
     "name": "stdout",
     "output_type": "stream",
     "text": [
      "Please enter a alphabet (a-z/A-Z):d\n",
      "It's consonant\n"
     ]
    }
   ],
   "source": [
    "alp = input(\"Please enter a alphabet (a-z/A-Z):\").lower()\n",
    "vowel = 'aeiou'\n",
    "if alp in vowel:\n",
    "    print(\"It's vowel\")\n",
    "else:\n",
    "    print(\"It's consonant\")"
   ]
  },
  {
   "cell_type": "markdown",
   "metadata": {},
   "source": [
    "7. The length of a month varies from 28 to 31 days. Create a program that reads the name of a month from the user as a string. Then your program should display the number of days in that month. Display “28 or 29 days” for February so that leap years is addressed."
   ]
  },
  {
   "cell_type": "code",
   "execution_count": 39,
   "metadata": {},
   "outputs": [
    {
     "name": "stdout",
     "output_type": "stream",
     "text": [
      "Please enter the month:september\n",
      "september  no of days is 30\n"
     ]
    }
   ],
   "source": [
    "month = input(\"Please enter the month:\").lower()\n",
    "l = ['january','march','may','july','august','october','december']\n",
    "l2 = ['april','june','september','november']\n",
    "if month in l:\n",
    "    print(month,\" no of days is 31\")\n",
    "elif month is 'february':\n",
    "    print(month,\"no of days is either 28 or 29\")\n",
    "elif month in l2:\n",
    "    print(month,\" no of days is 30\")\n",
    "else:\n",
    "    print(\"Entered string is not a month\")"
   ]
  },
  {
   "cell_type": "markdown",
   "metadata": {},
   "source": [
    "8. A triangle can be classified based on the lengths of its sides as equilateral, isosceles or scalene. All 3 sides of an equilateral triangle have the same length. An isosceles triangle has two sides that are the same length, and a third side that is a different length. If all of the sides have different lengths then the triangle is scalene. Write a program that reads the lengths of 3 sides of a triangle from the user. Display a message indicating the type of the triangle."
   ]
  },
  {
   "cell_type": "code",
   "execution_count": 42,
   "metadata": {},
   "outputs": [
    {
     "name": "stdout",
     "output_type": "stream",
     "text": [
      "Enter the three lengths, separate them with comma(,)2,2,2\n",
      "Equilateral triangle\n"
     ]
    }
   ],
   "source": [
    "l,b,h = map(int,input('Enter the three lengths, separate them with comma(,)').split(','))\n",
    "if l == b and l == h:\n",
    "    print(\"Equilateral triangle\")\n",
    "elif l == b or l == h or b == h:\n",
    "    print(\"Isosceles triangle\")\n",
    "elif l!=b and l!=h and b!=h:\n",
    "    print(\"Scalene triange\")"
   ]
  },
  {
   "cell_type": "markdown",
   "metadata": {},
   "source": [
    " The rules for determining whether or not a year is a leap year follow:\n",
    "\n",
    " \n",
    "\n",
    "Any year that is divisible by 400 is a leap year.\n",
    "Of the remaining years, any year that is divisible by 100 is not a leap year.\n",
    "Of the remaining years, any year that is divisible by 4 is a leap year.\n",
    "All other years are not leap years."
   ]
  },
  {
   "cell_type": "code",
   "execution_count": 44,
   "metadata": {},
   "outputs": [
    {
     "name": "stdout",
     "output_type": "stream",
     "text": [
      "Please enter a year:400\n",
      "It's leap year\n"
     ]
    }
   ],
   "source": [
    "y = int(input(\"Please enter a year:\"))\n",
    " \n",
    "if y% 400 == 0:\n",
    "    print(\"It's leap year\")\n",
    "elif y % 100 == 0:\n",
    "    print(\"It's not a leap year\")\n",
    "elif y% 4 == 0:\n",
    "    print(\"It's leap year\")\n",
    "else:\n",
    "    print(\"It's not a leap year\")"
   ]
  },
  {
   "cell_type": "markdown",
   "metadata": {},
   "source": [
    "10. Write a program that computes the real roots of a quadratic function. Your program should begin by prompting the user for the values of a, b and c. Then it should display a message indicating the number of real roots, along with the values of the real roots (if any)."
   ]
  },
  {
   "cell_type": "code",
   "execution_count": 47,
   "metadata": {},
   "outputs": [
    {
     "name": "stdout",
     "output_type": "stream",
     "text": [
      "Enter the a b c values, separate them with comma(,)5,20,32\n",
      "Solutions are (-2+1.5491933384829668j) and (-2-1.5491933384829668j)\n"
     ]
    }
   ],
   "source": [
    "a,b,c = map(float,input('Enter the a b c values, separate them with comma(,)').split(','))\n",
    "assert a != 0, \"a should be not equal to 0\"\n",
    "\n",
    "s1 = (-b + (b**2 - 4*a*c)**0.5)/(2*a)\n",
    "s2 = (-b - (b**2 - 4*a*c)**0.5)/(2*a)\n",
    "print(f'Solutions are {s1} and {s2}')"
   ]
  },
  {
   "cell_type": "code",
   "execution_count": null,
   "metadata": {},
   "outputs": [],
   "source": []
  }
 ],
 "metadata": {
  "kernelspec": {
   "display_name": "Python 3",
   "language": "python",
   "name": "python3"
  },
  "language_info": {
   "codemirror_mode": {
    "name": "ipython",
    "version": 3
   },
   "file_extension": ".py",
   "mimetype": "text/x-python",
   "name": "python",
   "nbconvert_exporter": "python",
   "pygments_lexer": "ipython3",
   "version": "3.7.6"
  }
 },
 "nbformat": 4,
 "nbformat_minor": 4
}
