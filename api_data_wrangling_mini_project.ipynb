{
 "cells": [
  {
   "cell_type": "markdown",
   "metadata": {},
   "source": [
    "This exercise will require you to pull some data from the Qunadl API. Qaundl is currently the most widely used aggregator of financial market data."
   ]
  },
  {
   "cell_type": "markdown",
   "metadata": {},
   "source": [
    "As a first step, you will need to register a free account on the http://www.quandl.com website."
   ]
  },
  {
   "cell_type": "markdown",
   "metadata": {},
   "source": [
    "After you register, you will be provided with a unique API key, that you should store:"
   ]
  },
  {
   "cell_type": "code",
   "execution_count": 2,
   "metadata": {},
   "outputs": [],
   "source": [
    "# API key for Quandl API\n",
    "API_KEY = 'WRKGoC2vxYRmSVRFiBFt'"
   ]
  },
  {
   "cell_type": "markdown",
   "metadata": {},
   "source": [
    "Qaundl has a large number of data sources, but, unfortunately, most of them require a Premium subscription. Still, there are also a good number of free datasets."
   ]
  },
  {
   "cell_type": "markdown",
   "metadata": {},
   "source": [
    "For this mini project, we will focus on equities data from the Frankfurt Stock Exhange (FSE), which is available for free. We'll try and analyze the stock prices of a company called Carl Zeiss Meditec, which manufactures tools for eye examinations, as well as medical lasers for laser eye surgery: https://www.zeiss.com/meditec/int/home.html. The company is listed under the stock ticker AFX_X."
   ]
  },
  {
   "cell_type": "markdown",
   "metadata": {},
   "source": [
    "You can find the detailed Quandl API instructions here: https://docs.quandl.com/docs/time-series"
   ]
  },
  {
   "cell_type": "markdown",
   "metadata": {},
   "source": [
    "While there is a dedicated Python package for connecting to the Quandl API, we would prefer that you use the *requests* package, which can be easily downloaded using *pip* or *conda*. You can find the documentation for the package here: http://docs.python-requests.org/en/master/ "
   ]
  },
  {
   "cell_type": "markdown",
   "metadata": {},
   "source": [
    "Finally, apart from the *requests* package, you are encouraged to not use any third party Python packages, such as *pandas*, and instead focus on what's available in the Python Standard Library (the *collections* module might come in handy: https://pymotw.com/3/collections/).\n",
    "Also, since you won't have access to DataFrames, you are encouraged to us Python's native data structures - preferably dictionaries, though some questions can also be answered using lists.\n",
    "You can read more on these data structures here: https://docs.python.org/3/tutorial/datastructures.html"
   ]
  },
  {
   "cell_type": "markdown",
   "metadata": {},
   "source": [
    "Keep in mind that the JSON responses you will be getting from the API map almost one-to-one to Python's dictionaries. Unfortunately, they can be very nested, so make sure you read up on indexing dictionaries in the documentation provided above."
   ]
  },
  {
   "cell_type": "code",
   "execution_count": 3,
   "metadata": {},
   "outputs": [],
   "source": [
    "# Importing the relevant modules\n",
    "import json\n",
    "import requests as re"
   ]
  },
  {
   "cell_type": "code",
   "execution_count": 4,
   "metadata": {},
   "outputs": [
    {
     "name": "stdout",
     "output_type": "stream",
     "text": [
      "Retrieved https://www.quandl.com/api/v3/datasets/FSE/AFX_X.json?api_key=WRKGoC2vxYRmSVRFiBFt&order=asc&start_date=2017-01-01&end_date=2017-01-01\n",
      "Retrieved 785 characters\n",
      "{\n",
      "    \"dataset\": {\n",
      "        \"id\": 10095370,\n",
      "        \"dataset_code\": \"AFX_X\",\n",
      "        \"database_code\": \"FSE\",\n",
      "        \"name\": \"Carl Zeiss Meditec (AFX_X)\",\n",
      "        \"description\": \"Stock Prices for Carl Zeiss Meditec (2020-05-06) from the Frankfurt Stock Exchange.<br><br>Trading System: Xetra<br><br>ISIN: DE0005313704\",\n",
      "        \"refreshed_at\": \"2020-05-20T22:16:14.858Z\",\n",
      "        \"newest_available_date\": \"2020-05-20\",\n",
      "        \"oldest_available_date\": \"2000-06-07\",\n",
      "        \"column_names\": [\n",
      "            \"Date\",\n",
      "            \"Open\",\n",
      "            \"High\",\n",
      "            \"Low\",\n",
      "            \"Close\",\n",
      "            \"Change\",\n",
      "            \"Traded Volume\",\n",
      "            \"Turnover\",\n",
      "            \"Last Price of the Day\",\n",
      "            \"Daily Traded Units\",\n",
      "            \"Daily Turnover\"\n",
      "        ],\n",
      "        \"frequency\": \"daily\",\n",
      "        \"type\": \"Time Series\",\n",
      "        \"premium\": false,\n",
      "        \"limit\": null,\n",
      "        \"transform\": null,\n",
      "        \"column_index\": null,\n",
      "        \"start_date\": \"2017-01-01\",\n",
      "        \"end_date\": \"2017-01-01\",\n",
      "        \"data\": [],\n",
      "        \"collapse\": null,\n",
      "        \"order\": \"asc\",\n",
      "        \"database_id\": 6129\n",
      "    }\n",
      "}\n"
     ]
    }
   ],
   "source": [
    "# Calling the Quandl API data and pulling a small sample of the data (only one day) to get a glimpse\n",
    "# into the JSON structure\n",
    "serviceurl = 'https://www.quandl.com/api/v3/datasets/FSE/AFX_X.json'\n",
    "\n",
    "params = {'api_key': API_KEY, 'order': 'asc', 'start_date': '2017-01-01', 'end_date': '2017-01-01'}\n",
    "\n",
    "#Extracts data using request module\n",
    "r = re.get(serviceurl,params=params)\n",
    "\n",
    "print('Retrieved',r.url)\n",
    "data = r.text\n",
    "print('Retrieved', len(data),'characters')\n",
    "\n",
    "try:\n",
    "    js = json.loads(data)\n",
    "except:\n",
    "    js = None\n",
    "\n",
    "# Prints the JSON structure\n",
    "print(json.dumps(js,indent=4))\n",
    "\n",
    "#Save column headers\n",
    "header = js['dataset']['column_names']\n",
    "\n",
    "#Saving JSON object into Python dictionary\n",
    "dataset = {}\n",
    "count = 0\n",
    "raw_data = js['dataset']['data']\n",
    "for item in header:\n",
    "    j = []\n",
    "    for i in raw_data:\n",
    "        j.append(i[count])\n",
    "    dataset[item] = j\n",
    "    count += 1"
   ]
  },
  {
   "cell_type": "markdown",
   "metadata": {},
   "source": [
    "## These are your tasks for this mini project:"
   ]
  },
  {
   "cell_type": "markdown",
   "metadata": {},
   "source": [
    "##### Collect data from the Franfurt Stock Exchange, for the ticker AFX_X, for the whole year 2017 (keep in mind that the date format is YYYY-MM-DD). Convert the returned JSON object into a Python dictionary."
   ]
  },
  {
   "cell_type": "code",
   "execution_count": 5,
   "metadata": {},
   "outputs": [
    {
     "name": "stdout",
     "output_type": "stream",
     "text": [
      "Retrieved https://www.quandl.com/api/v3/datasets/FSE/AFX_X.json?api_key=WRKGoC2vxYRmSVRFiBFt&order=asc&start_date=2017-01-01&end_date=2017-12-31\n",
      "Retrieved 20290 characters\n"
     ]
    }
   ],
   "source": [
    "# Calling the Quandl API data from the Franfurt Stock Exchange, for the ticker AFX_X, for the whole year 2017\n",
    "\n",
    "serviceurl = 'https://www.quandl.com/api/v3/datasets/FSE/AFX_X.json'\n",
    "\n",
    "params = {'api_key': API_KEY, 'order': 'asc', 'start_date': '2017-01-01', 'end_date': '2017-12-31'}\n",
    "\n",
    "#Extracts data using request module\n",
    "r = re.get(serviceurl,params=params)\n",
    "\n",
    "print('Retrieved',r.url)\n",
    "data = r.text\n",
    "print('Retrieved', len(data),'characters')\n",
    "\n",
    "try:\n",
    "    js = json.loads(data)\n",
    "except:\n",
    "    js = None\n",
    "\n",
    "# Prints the JSON structure\n",
    "#print(json.dumps(js,indent=4))\n",
    "\n",
    "#Save column headers\n",
    "header = js['dataset']['column_names']\n",
    "\n",
    "#Saving JSON object into Python dictionary\n",
    "dataset = {}\n",
    "count = 0\n",
    "raw_data = js['dataset']['data']\n",
    "for item in header:\n",
    "    j = []\n",
    "    for i in raw_data:\n",
    "        j.append(i[count])\n",
    "    dataset[item] = j\n",
    "    count += 1"
   ]
  },
  {
   "cell_type": "markdown",
   "metadata": {},
   "source": [
    "##### Calculate what the highest and lowest opening prices were for the stock in this period."
   ]
  },
  {
   "cell_type": "code",
   "execution_count": 6,
   "metadata": {},
   "outputs": [
    {
     "name": "stdout",
     "output_type": "stream",
     "text": [
      "Highest opening price is $53.11\n",
      "Lowest opening price is $34.0\n"
     ]
    }
   ],
   "source": [
    "# Function for removing None Values from the list\n",
    "def removeNone(datalist):\n",
    "    cleaned_data = []\n",
    "    for val in datalist:\n",
    "        if val != None:\n",
    "            cleaned_data.append(val)\n",
    "    return cleaned_data\n",
    "\n",
    "\n",
    "# Highest and lowest opening prices for the stock in this period\n",
    "\n",
    "opening_price = removeNone(list(dataset['Open']))\n",
    "\n",
    "max_opening_price = max(opening_price)\n",
    "min_opening_price = min(opening_price)\n",
    "\n",
    "print(\"Highest opening price is ${}\".format(max_opening_price))\n",
    "print(\"Lowest opening price is ${}\".format(min_opening_price))"
   ]
  },
  {
   "cell_type": "markdown",
   "metadata": {},
   "source": [
    "##### What was the largest change in any one day (based on High and Low price)?"
   ]
  },
  {
   "cell_type": "code",
   "execution_count": 7,
   "metadata": {},
   "outputs": [
    {
     "name": "stdout",
     "output_type": "stream",
     "text": [
      "Largest change in any one day (based on High and Low price) is $2.81\n"
     ]
    }
   ],
   "source": [
    "# Largest change in any one day (based on High and Low price)\n",
    "high_price = removeNone(list(dataset['High']))\n",
    "low_price = removeNone(list(dataset['Low']))\n",
    "\n",
    "diff_high_low = []\n",
    "for c in range(len(high_price)):\n",
    "    diff_high_low.append(high_price[c] - low_price[c])\n",
    "    \n",
    "print(\"Largest change in any one day (based on High and Low price) is ${}\".format(round(max(diff_high_low),2)))"
   ]
  },
  {
   "cell_type": "markdown",
   "metadata": {},
   "source": [
    "##### What was the largest change between any two days (based on Closing Price)?"
   ]
  },
  {
   "cell_type": "code",
   "execution_count": 8,
   "metadata": {},
   "outputs": [
    {
     "name": "stdout",
     "output_type": "stream",
     "text": [
      "Largest change between any two days (based on Closing Price) is $2.46\n"
     ]
    }
   ],
   "source": [
    "# Largest change between any two days (based on Closing Price)\n",
    "closing_price = list(dataset['High'])\n",
    "\n",
    "diff_2nd_1st_closing = []\n",
    "for i in range(len(closing_price)):\n",
    "    if i == len(closing_price)-1:\n",
    "        break\n",
    "    diff_2nd_1st_closing.append(closing_price[i+1] - closing_price[i])\n",
    "\n",
    "print('Largest change between any two days (based on Closing Price) is ${}'.format(round(max(diff_2nd_1st_closing),2)))"
   ]
  },
  {
   "cell_type": "markdown",
   "metadata": {},
   "source": [
    "##### What was the average daily trading volume during this year?"
   ]
  },
  {
   "cell_type": "code",
   "execution_count": 9,
   "metadata": {},
   "outputs": [
    {
     "name": "stdout",
     "output_type": "stream",
     "text": [
      "Average daily trading volume during year 2017 is 89124.34\n"
     ]
    }
   ],
   "source": [
    "# Function for average\n",
    "def Average(lst):\n",
    "    return sum(lst)/len(lst)\n",
    "\n",
    "# Function for median\n",
    "def Median(lst):\n",
    "    n = len(lst)\n",
    "    sort_lst = sorted(lst)\n",
    "    if n % 2 == 0:\n",
    "        num_1 = sort_lst[n//2]\n",
    "        num_2 = sort_lst[n//2+1]\n",
    "        median = (num_1+num_2)/2\n",
    "    else:\n",
    "        median = sort_lst[n//2]\n",
    "    return median\n",
    "\n",
    "# Average daily trading volume during this year\n",
    "avg_volume = Average(list(dataset['Traded Volume']))\n",
    "\n",
    "print('Average daily trading volume during year 2017 is {}'.format(round(avg_volume,2)))"
   ]
  },
  {
   "cell_type": "markdown",
   "metadata": {},
   "source": [
    "##### (Optional) What was the median trading volume during this year. (Note: you may need to implement your own function for calculating the median.)"
   ]
  },
  {
   "cell_type": "code",
   "execution_count": 10,
   "metadata": {},
   "outputs": [
    {
     "name": "stdout",
     "output_type": "stream",
     "text": [
      "Median trading volume during year 2017 is 76286.0\n"
     ]
    }
   ],
   "source": [
    "# Median trading volume during this year\n",
    "median_volume = Median(list(dataset['Traded Volume']))\n",
    "\n",
    "print('Median trading volume during year 2017 is {}'.format(round(median_volume,2)))"
   ]
  }
 ],
 "metadata": {
  "kernelspec": {
   "display_name": "Python 3",
   "language": "python",
   "name": "python3"
  },
  "language_info": {
   "codemirror_mode": {
    "name": "ipython",
    "version": 3
   },
   "file_extension": ".py",
   "mimetype": "text/x-python",
   "name": "python",
   "nbconvert_exporter": "python",
   "pygments_lexer": "ipython3",
   "version": "3.7.6"
  }
 },
 "nbformat": 4,
 "nbformat_minor": 4
}
