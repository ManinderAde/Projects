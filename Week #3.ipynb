{
 "cells": [
  {
   "cell_type": "code",
   "execution_count": 1,
   "metadata": {},
   "outputs": [
    {
     "name": "stdout",
     "output_type": "stream",
     "text": [
      "3.7.6 (default, Jan  8 2020, 13:42:34) \n",
      "[Clang 4.0.1 (tags/RELEASE_401/final)]\n"
     ]
    }
   ],
   "source": [
    "import sys\n",
    "print(sys.version)"
   ]
  },
  {
   "cell_type": "markdown",
   "metadata": {},
   "source": [
    "1. Write a program to accept an integer n greater than 10. Then print all the odd numbers from 1 to n."
   ]
  },
  {
   "cell_type": "code",
   "execution_count": 5,
   "metadata": {},
   "outputs": [
    {
     "name": "stdout",
     "output_type": "stream",
     "text": [
      "Enter integer greater than 10: 12\n",
      "1\n",
      "3\n",
      "5\n",
      "7\n",
      "9\n",
      "11\n"
     ]
    }
   ],
   "source": [
    "n = int(input(\"Enter integer greater than 10: \"))\n",
    "if n >10:\n",
    "    for i in range(1,n+1):\n",
    "        if i%2 != 0:\n",
    "            print(i)\n",
    "else:\n",
    "    print('Integer is less than 10')"
   ]
  },
  {
   "cell_type": "markdown",
   "metadata": {},
   "source": [
    "2. Write a program to accept an integer n greater than 10. Then print all the prime numbers from 1 to n."
   ]
  },
  {
   "cell_type": "code",
   "execution_count": 15,
   "metadata": {},
   "outputs": [
    {
     "name": "stdout",
     "output_type": "stream",
     "text": [
      "Enter integer greater than 10: 30\n",
      "2\n",
      "3\n",
      "5\n",
      "7\n",
      "11\n",
      "13\n",
      "17\n",
      "19\n",
      "23\n",
      "29\n"
     ]
    }
   ],
   "source": [
    "n = int(input(\"Enter integer greater than 10: \"))\n",
    "if n >10:\n",
    "    for i in range(1,n+1):\n",
    "        if i > 1:\n",
    "            for j in range(2,i):\n",
    "                if i%j == 0:\n",
    "                    break\n",
    "            else:\n",
    "                print(i)\n",
    "else:\n",
    "    print('Integer is less than 10')"
   ]
  },
  {
   "cell_type": "markdown",
   "metadata": {},
   "source": [
    "3. In this exercise you will create a program that computes the average of a collection of values entered by the user. The user will enter 0 as a sentinel value to indicate that no further values will be provided. Your program should display an appropriate error message if the first value entered by the user is 0.\n"
   ]
  },
  {
   "cell_type": "code",
   "execution_count": 17,
   "metadata": {},
   "outputs": [
    {
     "name": "stdout",
     "output_type": "stream",
     "text": [
      "Enter number: 0\n",
      "error first number is 0\n"
     ]
    }
   ],
   "source": [
    "count = 1\n",
    "n1 = int(input(\"Enter number: \"))\n",
    "add = n1\n",
    "if n1 > 0:\n",
    "    n=1\n",
    "    while n > 0:\n",
    "        n = int(input(\"Enter number: \"))\n",
    "        count += 1\n",
    "        add += n\n",
    "    else:\n",
    "        print(\"Average = \",add/(count-1))\n",
    "else:\n",
    "    print(\"error first number is 0\")\n",
    "    "
   ]
  },
  {
   "cell_type": "markdown",
   "metadata": {},
   "source": [
    "4. Write a program that takes a number as input and prints its multiplication table."
   ]
  },
  {
   "cell_type": "code",
   "execution_count": 20,
   "metadata": {},
   "outputs": [
    {
     "name": "stdout",
     "output_type": "stream",
     "text": [
      "Enter a integer: 2\n",
      "2  x  1  =  2\n",
      "2  x  2  =  4\n",
      "2  x  3  =  6\n",
      "2  x  4  =  8\n",
      "2  x  5  =  10\n",
      "2  x  6  =  12\n",
      "2  x  7  =  14\n",
      "2  x  8  =  16\n",
      "2  x  9  =  18\n",
      "2  x  10  =  20\n"
     ]
    }
   ],
   "source": [
    "n = int(input(\"Enter a integer: \"))\n",
    "for i in range(1,11):\n",
    "    print(n,\" x \",i,\" = \",n*i)\n"
   ]
  },
  {
   "cell_type": "markdown",
   "metadata": {},
   "source": [
    "5. Write a program that displays a temperature conversion table for degrees Celsius and degrees Fahrenheit. The table should include rows for all temperatures between 0 and 100 degrees Celsius that are multiples of 10 degrees Celsius. Include appropriate headings on your columns."
   ]
  },
  {
   "cell_type": "code",
   "execution_count": 33,
   "metadata": {},
   "outputs": [
    {
     "name": "stdout",
     "output_type": "stream",
     "text": [
      "{'Celsius': [], 'Fahrenheit': []}\n",
      "{'Celsius': [0, 10, 20, 30, 40, 50, 60, 70, 80, 90, 100], 'Fahrenheit': [32.0, 50.0, 68.0, 86.0, 104.0, 122.0, 140.0, 158.0, 176.0, 194.0, 212.0]}\n",
      "    Celsius  Fahrenheit\n",
      "0         0        32.0\n",
      "1        10        50.0\n",
      "2        20        68.0\n",
      "3        30        86.0\n",
      "4        40       104.0\n",
      "5        50       122.0\n",
      "6        60       140.0\n",
      "7        70       158.0\n",
      "8        80       176.0\n",
      "9        90       194.0\n",
      "10      100       212.0\n"
     ]
    }
   ],
   "source": [
    "keys = ['Celsius', 'Fahrenheit']\n",
    "d = dict((k, []) for k in keys)\n",
    "print(d)\n",
    "for c in range(0,101,10):\n",
    "    f = round((c * (9.0/5.0)) + 32.0,1)\n",
    "    d['Celsius'].append(c)\n",
    "    d['Fahrenheit'].append(f)\n",
    "print(d)\n",
    "\n",
    "import pandas as pd\n",
    "d = pd.DataFrame(d)\n",
    "print(d)"
   ]
  },
  {
   "cell_type": "markdown",
   "metadata": {},
   "source": [
    "6. A string is a palindrome if it is identical forward and backward. For example “anna”, “civic”, “level” and “madam” are all examples of palindrome words. Write a program that reads a string from the user and uses a loop to determine whether or not it is a palindrome. Display the result, including a meaningful output message."
   ]
  },
  {
   "cell_type": "code",
   "execution_count": 40,
   "metadata": {},
   "outputs": [
    {
     "name": "stdout",
     "output_type": "stream",
     "text": [
      "Enter the string: Anna\n",
      "anna is a palindrome\n"
     ]
    }
   ],
   "source": [
    "str1 = input('Enter the string: ').lower()\n",
    "rev = str1[::-1]\n",
    "\n",
    "for i in range(len(str1)):\n",
    "    if str1[i] != rev[i]:\n",
    "        print(str1, \"is not a palindrome\")\n",
    "        break\n",
    "else:\n",
    "    print(str1, \"is a palindrome\")\n"
   ]
  },
  {
   "cell_type": "markdown",
   "metadata": {},
   "source": [
    "7. The greatest common divisor (GCD) of two positive integers, n and m, is the largest number, d, which divides evenly into both n and m. The following algorithm is used to find GCD of n and m :\n",
    "\n",
    "Initialize d to the smaller of m and n.\n",
    "\n",
    "While d does not evenly divide m or d does not evenly divide n do\n",
    "\n",
    "Decrease the value of d by 1\n",
    "\n",
    "Report d as the greatest common divisor of n and m\n",
    "\n",
    "Write a program that reads two positive integers from the user and uses this algorithm to determine and report their greatest common divisor.\n"
   ]
  },
  {
   "cell_type": "code",
   "execution_count": 45,
   "metadata": {},
   "outputs": [
    {
     "name": "stdout",
     "output_type": "stream",
     "text": [
      "Enter integers (separated by coma):60,48\n",
      "GCD of 60 and 48 is 12\n"
     ]
    }
   ],
   "source": [
    "x,y = map(int,input(\"Enter integers (separated by coma):\").split(\",\"))\n",
    "d  = min(x,y)\n",
    "\n",
    "while x%d != 0 or y%d != 0:\n",
    "    d -= 1\n",
    "print(f'GCD of {x} and {y} is {d}')"
   ]
  },
  {
   "cell_type": "code",
   "execution_count": 48,
   "metadata": {},
   "outputs": [
    {
     "name": "stdout",
     "output_type": "stream",
     "text": [
      "Enter integers (separated by coma):8,20\n",
      "GCD of 8 and 20 is 4\n"
     ]
    }
   ],
   "source": [
    "def gcd(x, y):\n",
    "    while y != 0:\n",
    "        (x, y) = (y, x % y)\n",
    "    return x\n",
    "x,y = map(int,input(\"Enter integers (separated by coma):\").split(\",\"))\n",
    "print(f'GCD of {x} and {y} is {gcd(x,y)}')"
   ]
  },
  {
   "cell_type": "markdown",
   "metadata": {},
   "source": [
    "8. The prime factorization of an integer, n, can be determined using the following steps:\n",
    "\n",
    "Initialize factor to two\n",
    "\n",
    "While factor is less than or equal to n do\n",
    "\n",
    "If n is evenly divisible by factor then\n",
    "\n",
    "    Conclude that factor is a factor of n\n",
    "\n",
    "    Divide n by factor using integer division\n",
    "\n",
    "Else\n",
    "\n",
    "Increase factor by one\n",
    "\n",
    "Write a program that reads an integer from the user. If the value entered by the user is less than 2 then your program should display an appropriate error message. Otherwise your program should display the prime numbers that can be multiplied together to compute n, with one factor appearing on each line."
   ]
  },
  {
   "cell_type": "code",
   "execution_count": 53,
   "metadata": {},
   "outputs": [
    {
     "name": "stdout",
     "output_type": "stream",
     "text": [
      "Enter number: 147\n",
      "3\n",
      "7\n",
      "7\n"
     ]
    }
   ],
   "source": [
    "n = int(input(\"Enter number: \"))\n",
    "if n > 2:\n",
    "    f = 2\n",
    "    while f <= n:\n",
    "        if n % f == 0:\n",
    "            print(f)\n",
    "            n /= f\n",
    "        else:\n",
    "            f += 1\n",
    "else:\n",
    "    print(\"error number shouldnt be less than 2\")"
   ]
  },
  {
   "cell_type": "markdown",
   "metadata": {},
   "source": [
    "9. Write a program that converts a binary (base 2) number to decimal (base 10). Your program should begin by reading the binary number from the user as a string. Then it should compute the equivalent decimal number by processing each digit in the binary number. Finally, your program should display the equivalent decimal number with an appropriate message."
   ]
  },
  {
   "cell_type": "code",
   "execution_count": 56,
   "metadata": {},
   "outputs": [
    {
     "name": "stdout",
     "output_type": "stream",
     "text": [
      "Enter number: 101\n",
      "Converted number:  5\n"
     ]
    }
   ],
   "source": [
    "n = input(\"Enter number: \")\n",
    "count = 0\n",
    "n = n[::-1]\n",
    "\n",
    "for i in range(0, len(n)):\n",
    "    if(n[i] == \"1\"):\n",
    "        count += 2**i\n",
    "print(\"Converted number: \",count)"
   ]
  },
  {
   "cell_type": "markdown",
   "metadata": {},
   "source": [
    "10. Demonstrate the formatting capabilities of format function on integers, floats and strings."
   ]
  },
  {
   "cell_type": "code",
   "execution_count": 66,
   "metadata": {},
   "outputs": [
    {
     "name": "stdout",
     "output_type": "stream",
     "text": [
      "1 is less than 2,3 and 4.4532\n",
      "1 is less than 2,3 and 4.4532\n",
      "4.4532 is greater than 1,2 and 3\n",
      "4.45 is greater than 1,2 and 3\n",
      "MA finished the assignment\n"
     ]
    }
   ],
   "source": [
    "a,b,c,d,name = 1,2,3,4.4532,'MA'\n",
    "print(f'{a} is less than {b},{c} and {d}')\n",
    "print('{} is less than {},{} and {}'.format(a,b,c,d))\n",
    "print('{3} is greater than {0},{1} and {2}'.format(a,b,c,d))\n",
    "print('{3:1.2f} is greater than {0},{1} and {2}'.format(a,b,c,d))\n",
    "print(f'{name} finished the assignment')"
   ]
  },
  {
   "cell_type": "code",
   "execution_count": null,
   "metadata": {},
   "outputs": [],
   "source": []
  }
 ],
 "metadata": {
  "kernelspec": {
   "display_name": "Python 3",
   "language": "python",
   "name": "python3"
  },
  "language_info": {
   "codemirror_mode": {
    "name": "ipython",
    "version": 3
   },
   "file_extension": ".py",
   "mimetype": "text/x-python",
   "name": "python",
   "nbconvert_exporter": "python",
   "pygments_lexer": "ipython3",
   "version": "3.7.6"
  }
 },
 "nbformat": 4,
 "nbformat_minor": 4
}
