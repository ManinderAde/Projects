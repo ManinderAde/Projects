{
 "cells": [
  {
   "cell_type": "code",
   "execution_count": 28,
   "metadata": {},
   "outputs": [],
   "source": [
    "import wikipedia\n",
    "from wordcloud import WordCloud, STOPWORDS\n",
    "import os\n",
    "from PIL import Image\n",
    "import numpy as np\n",
    "\n",
    "currdir = os.getcwd()\n",
    "\n",
    "def get_wiki(query):\n",
    "    title = wikipedia.search(query)[0]\n",
    "    page = wikipedia.page(title)\n",
    "    return page.content\n",
    "\n",
    "def create_wordcloud(text):\n",
    "    mask = np.array(Image.open(os.path.join(currdir,\"cloud.png\")))\n",
    "    stopwords = set(STOPWORDS)\n",
    "    wc = WordCloud(background_color='white',\n",
    "                  mask = mask,\n",
    "                  max_words = 200,\n",
    "                  stopwords = stopwords)\n",
    "    wc.generate(text)\n",
    "    wc.to_file(os.path.join(currdir,\"wc.png\"))\n",
    "\n",
    "create_wordcloud(get_wiki(\"Airport\"))"
   ]
  },
  {
   "cell_type": "code",
   "execution_count": null,
   "metadata": {},
   "outputs": [],
   "source": []
  }
 ],
 "metadata": {
  "kernelspec": {
   "display_name": "Python 3",
   "language": "python",
   "name": "python3"
  },
  "language_info": {
   "codemirror_mode": {
    "name": "ipython",
    "version": 3
   },
   "file_extension": ".py",
   "mimetype": "text/x-python",
   "name": "python",
   "nbconvert_exporter": "python",
   "pygments_lexer": "ipython3",
   "version": "3.7.6"
  }
 },
 "nbformat": 4,
 "nbformat_minor": 4
}
