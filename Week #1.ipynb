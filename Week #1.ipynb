{
 "cells": [
  {
   "cell_type": "code",
   "execution_count": 4,
   "metadata": {},
   "outputs": [
    {
     "name": "stdout",
     "output_type": "stream",
     "text": [
      "Maninder Ade\n",
      "xxx JFK, APT yyy, \n",
      "Jersey City, US 07306\n"
     ]
    }
   ],
   "source": [
    "print('Maninder Ade\\nxxx JFK, APT yyy, \\nJersey City, US 07306')"
   ]
  },
  {
   "cell_type": "code",
   "execution_count": 8,
   "metadata": {},
   "outputs": [
    {
     "name": "stdout",
     "output_type": "stream",
     "text": [
      "Hello, please enter your name:Maninder Ade\n",
      "Enter your street:xxx JFK\n",
      "Enter your apartment number:yyy\n",
      "Enter your City:Jersey City\n",
      "Enter your country:US\n",
      "Enter your zip code:07306\n"
     ]
    }
   ],
   "source": [
    "name = input('Hello, please enter your name:')\n",
    "Street = input('Enter your street:')\n",
    "APT = input('Enter your apartment number:')\n",
    "City = input('Enter your City:')\n",
    "country = input('Enter your country:')\n",
    "Zip_code = input('Enter your zip code:')"
   ]
  },
  {
   "cell_type": "code",
   "execution_count": 14,
   "metadata": {},
   "outputs": [
    {
     "name": "stdout",
     "output_type": "stream",
     "text": [
      "Maninder Ade\n",
      "xxx JFK, APT yyy,\n",
      "Jersey City, US 07306\n"
     ]
    }
   ],
   "source": [
    "print(f'{name}\\n{Street}, APT {APT},\\n{City}, {country} {Zip_code}')"
   ]
  },
  {
   "cell_type": "code",
   "execution_count": 21,
   "metadata": {},
   "outputs": [
    {
     "name": "stdout",
     "output_type": "stream",
     "text": [
      "Enter circle radius:8\n",
      "Area of Circle: 201.06\n",
      "Area of Circumference: 50.27\n"
     ]
    }
   ],
   "source": [
    "r = float(input('Enter circle radius:'))\n",
    "from math import pi\n",
    "area = pi*r**2\n",
    "circumference = 2*pi*r\n",
    "print('Area of Circle: %.2f'%area)\n",
    "print('Area of Circumference: %.2f'%circumference)"
   ]
  },
  {
   "cell_type": "code",
   "execution_count": 17,
   "metadata": {},
   "outputs": [
    {
     "name": "stdout",
     "output_type": "stream",
     "text": [
      "3.0\n"
     ]
    }
   ],
   "source": [
    "print(r)"
   ]
  },
  {
   "cell_type": "code",
   "execution_count": 28,
   "metadata": {},
   "outputs": [
    {
     "name": "stdout",
     "output_type": "stream",
     "text": [
      "Enter length and breadth: 3 4\n",
      "Area of Circle: 12.00\n",
      "Area of Circumference: 14.00\n"
     ]
    }
   ],
   "source": [
    "l,b = map(float,input('Enter length and breadth: ').split())\n",
    "area1 = l*b\n",
    "circumference1 = 2*(l+b)\n",
    "print('Area of Circle: %.2f'%area1)\n",
    "print('Area of Circumference: %.2f'%circumference1)"
   ]
  },
  {
   "cell_type": "code",
   "execution_count": 29,
   "metadata": {},
   "outputs": [
    {
     "name": "stdout",
     "output_type": "stream",
     "text": [
      "Enter length of square: 2\n",
      "Area of Circle: 9.00\n",
      "Area of Circumference: 12.00\n"
     ]
    }
   ],
   "source": [
    "l1 = map(float,input('Enter length of square: ').split())\n",
    "area2 = l**2\n",
    "circumference2 = 4*l\n",
    "print('Area of Circle: %.2f'%area2)\n",
    "print('Area of Circumference: %.2f'%circumference2)"
   ]
  },
  {
   "cell_type": "code",
   "execution_count": 32,
   "metadata": {},
   "outputs": [
    {
     "name": "stdout",
     "output_type": "stream",
     "text": [
      "Enter the scale unit i.e, F or C and Temp: C 20\n",
      "20 degrees C is 68.0 degrees F\n"
     ]
    }
   ],
   "source": [
    "def converter_F_C(scale=None, temp = None):\n",
    "    if scale == 'F':\n",
    "        return 'C',round((temp - 32.0) * (5.0/9.0),1)\n",
    "    elif scale == 'C':\n",
    "        return 'F',round((temp * (9.0/5.0)) + 32.0,1)\n",
    "    else:\n",
    "        print('error in scale (F or C ?)')\n",
    "\n",
    "s,t = input('Enter the scale unit i.e, F or C and Temp: ').split()\n",
    "s1,t1 = converter_F_C(s,float(t))\n",
    "print(t, \"degrees\", s, \"is\", t1, \"degrees\", s1)\n",
    "        "
   ]
  },
  {
   "cell_type": "code",
   "execution_count": 41,
   "metadata": {},
   "outputs": [
    {
     "name": "stdout",
     "output_type": "stream",
     "text": [
      "Enter two complex numbers (separate them by comma(,))1+2j,3+4j\n",
      "Addition: (4+6j)\n",
      "Subtraction: (-2-2j)\n",
      "Multiplication: (-5+10j)\n"
     ]
    }
   ],
   "source": [
    "def complex_function(c1 = None, c2 = None):\n",
    "    assert type(c1) == complex and type(c2) == complex , 'Numbers are not complex'\n",
    "    return c1+c2,c1-c2,c1*c2\n",
    "c1,c2 = map(complex,input('Enter two complex numbers (separate them by comma(,))').split(','))\n",
    "a,b,c = complex_function(c1,c2)\n",
    "print(f'Addition: {a}\\nSubtraction: {b}\\nMultiplication: {c}')"
   ]
  },
  {
   "cell_type": "code",
   "execution_count": 39,
   "metadata": {},
   "outputs": [
    {
     "name": "stdout",
     "output_type": "stream",
     "text": [
      "Enter name and basic salary (separate them by comma(,))Maninder,50000\n",
      "Gross salary  Maninder is  80000.0\n"
     ]
    }
   ],
   "source": [
    "nam,bs = input('Enter name and basic salary (separate them by comma(,))').split(',')\n",
    "print(\"Gross salary \", nam, \"is \",float(bs)+0.4*float(bs)+0.2*float(bs))"
   ]
  },
  {
   "cell_type": "code",
   "execution_count": 44,
   "metadata": {},
   "outputs": [
    {
     "name": "stdout",
     "output_type": "stream",
     "text": [
      "Enter the n positive integers5\n",
      "Sum of  5 is  15.0\n"
     ]
    }
   ],
   "source": [
    "def sum_of_n_numbers(n = None):\n",
    "    assert type(n) == int, \"Number should be integer\"\n",
    "    return (n*(n+1)/2)\n",
    "n = int(input('Enter the n positive integers'))\n",
    "print(\"Sum of \",n,\"is \",sum_of_n_numbers(n))\n"
   ]
  },
  {
   "cell_type": "code",
   "execution_count": 48,
   "metadata": {},
   "outputs": [
    {
     "name": "stdout",
     "output_type": "stream",
     "text": [
      "Enter two integers (separate them by comma(,))2,3\n",
      "Addition: 5\n",
      "Subtraction: 1\n",
      "Multiplication: 6\n",
      "Quotient: 0\n",
      "Remainder: 2\n",
      "number1 power number2: 8\n"
     ]
    }
   ],
   "source": [
    "def compute(n1 = None,n2 = None):\n",
    "    return n1+n2, n2-n1, n1*n2,n1//n2 ,n1%n2 ,n1**n2\n",
    "a,b = map(int,input('Enter two integers (separate them by comma(,))').split(','))\n",
    "r1,r2,r3,r4,r5,r6 = compute(a,b)\n",
    "print(f'Addition: {r1}\\nSubtraction: {r2}\\nMultiplication: {r3}\\nQuotient: {r4}\\nRemainder: {r5}\\nnumber1 power number2: {r6}')\n"
   ]
  },
  {
   "cell_type": "code",
   "execution_count": null,
   "metadata": {},
   "outputs": [],
   "source": []
  }
 ],
 "metadata": {
  "kernelspec": {
   "display_name": "Python 3",
   "language": "python",
   "name": "python3"
  },
  "language_info": {
   "codemirror_mode": {
    "name": "ipython",
    "version": 3
   },
   "file_extension": ".py",
   "mimetype": "text/x-python",
   "name": "python",
   "nbconvert_exporter": "python",
   "pygments_lexer": "ipython3",
   "version": "3.7.6"
  }
 },
 "nbformat": 4,
 "nbformat_minor": 4
}
