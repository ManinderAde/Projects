{
 "cells": [
  {
   "cell_type": "markdown",
   "metadata": {},
   "source": [
    "# Explore Hacker News Post\n",
    "---\n",
    "Hacker News is a site started by the startup incubator __[Y Combinator](https://www.ycombinator.com/)__, where user-submitted stories (known as \"posts\") are voted and commented upon, similar to reddit. Hacker News is extremely popular in technology and startup circles, and posts that make it to the top of Hacker News' listings can get hundreds of thousands of visitors as a result.\n",
    "\n",
    "You can find the data set __[here](https://www.kaggle.com/hacker-news/hacker-news-posts)__, but note that it has been reduced from almost 300,000 rows to approximately 20,000 rows by removing all submissions that did not receive any comments, and then randomly sampling from the remaining submissions. Below are descriptions of the columns:\n",
    "\n",
    "- `id`: The unique identifier from Hacker News for the post\n",
    "- `title`: The title of the post\n",
    "- `url`: The URL that the posts links to, if it the post has a URL\n",
    "- `num_points`: The number of points the post acquired, calculated as the total number of upvotes minus the total number of downvotes\n",
    "- `num_comments`: The number of comments that were made on the post\n",
    "- `author`: The username of the person who submitted the post\n",
    "- `created_at`: The date and time at which the post was submitted\n",
    "\n",
    "We're specifically interested in posts whose titles begin with either Ask HN or Show HN. Users submit Ask HN posts to ask the Hacker News community a specific question.\n",
    "\n",
    "We'll compare these two types of posts to determine the following:\n",
    "- Do Ask HN or Show HN receive more comments on average?\n",
    "- Do posts created at a certain time receive more comments on average?"
   ]
  },
  {
   "cell_type": "code",
   "execution_count": 1,
   "metadata": {},
   "outputs": [
    {
     "name": "stdout",
     "output_type": "stream",
     "text": [
      "[['12579008', 'You have two days to comment if you want stem cells to be classified as your own', 'http://www.regulations.gov/document?D=FDA-2015-D-3719-0018', '1', '0', 'altstar', '9/26/2016 3:26'], ['12579005', 'SQLAR  the SQLite Archiver', 'https://www.sqlite.org/sqlar/doc/trunk/README.md', '1', '0', 'blacksqr', '9/26/2016 3:24'], ['12578997', 'What if we just printed a flatscreen television on the side of our boxes?', 'https://medium.com/vanmoof/our-secrets-out-f21c1f03fdc8#.ietxmez43', '1', '0', 'pavel_lishin', '9/26/2016 3:19'], ['12578989', 'algorithmic music', 'http://cacm.acm.org/magazines/2011/7/109891-algorithmic-composition/fulltext', '1', '0', 'poindontcare', '9/26/2016 3:16'], ['12578979', 'How the Data Vault Enables the Next-Gen Data Warehouse and Data Lake', 'https://www.talend.com/blog/2016/05/12/talend-and-Â\\x93the-data-vaultÂ\\x94', '1', '0', 'markgainor1', '9/26/2016 3:14']]\n"
     ]
    }
   ],
   "source": [
    "import csv as c\n",
    "import matplotlib.pyplot as plt\n",
    "import numpy as np\n",
    "import datetime as dt\n",
    "\n",
    "opened_file = open(\"hacker_news.csv\")\n",
    "read_file = c.reader(opened_file)\n",
    "hn = list(read_file)\n",
    "hn_header = hn[0]\n",
    "hn = hn[1:]\n",
    "print(hn[:5])"
   ]
  },
  {
   "cell_type": "code",
   "execution_count": 2,
   "metadata": {},
   "outputs": [
    {
     "name": "stdout",
     "output_type": "stream",
     "text": [
      "Number of Ask Posts:  9139\n",
      "Number of Show Posts:  10158\n",
      "Number of Other Posts:  273822\n"
     ]
    }
   ],
   "source": [
    "ask_posts = []\n",
    "show_posts = []\n",
    "other_posts = []\n",
    "\n",
    "for row in hn:\n",
    "    title = row[1]\n",
    "    Title = title.lower()\n",
    "    if Title.startswith('ask hn'):\n",
    "        ask_posts.append(row)\n",
    "    elif Title.startswith('show hn'):\n",
    "        show_posts.append(row)\n",
    "    else:\n",
    "        other_posts.append(row)\n",
    "print(\"Number of Ask Posts: \",len(ask_posts))\n",
    "print(\"Number of Show Posts: \",len(show_posts))\n",
    "print(\"Number of Other Posts: \",len(other_posts))"
   ]
  },
  {
   "cell_type": "markdown",
   "metadata": {},
   "source": [
    "### Do Ask HN or Show HN receive more comments on average?"
   ]
  },
  {
   "cell_type": "code",
   "execution_count": 3,
   "metadata": {},
   "outputs": [
    {
     "name": "stdout",
     "output_type": "stream",
     "text": [
      "Average comments for ask posts:  10.39\n",
      "Average comments for show posts:  4.89\n",
      "Average comments for other posts:  6.46\n"
     ]
    }
   ],
   "source": [
    "total_ask_comments = 0\n",
    "total_show_comments = 0\n",
    "total_other_comments = 0\n",
    "for row in ask_posts:\n",
    "    total_ask_comments += int(row[4])\n",
    "for row in show_posts:\n",
    "    total_show_comments += int(row[4])\n",
    "for row in other_posts:\n",
    "    total_other_comments += int(row[4])\n",
    "avg_ask_comments = total_ask_comments/len(ask_posts)\n",
    "avg_show_comments = total_show_comments/len(show_posts)\n",
    "avg_other_comments = total_other_comments/len(other_posts)\n",
    "print(\"Average comments for ask posts: \",'{:.2f}'.format(avg_ask_comments))\n",
    "print(\"Average comments for show posts: \",'{:.2f}'.format(avg_show_comments))\n",
    "print(\"Average comments for other posts: \",'{:.2f}'.format(avg_other_comments))"
   ]
  },
  {
   "cell_type": "markdown",
   "metadata": {},
   "source": [
    "On average, ask posts are likely to receive more comments compared to show posts. On average it is about 4 comments more. "
   ]
  },
  {
   "cell_type": "code",
   "execution_count": 4,
   "metadata": {},
   "outputs": [
    {
     "name": "stdout",
     "output_type": "stream",
     "text": [
      "Average points for ask posts:  11.31\n",
      "Average points for show posts:  14.84\n",
      "Average points for other posts:  15.16\n"
     ]
    }
   ],
   "source": [
    "total_ask_points = 0\n",
    "total_show_points = 0\n",
    "total_other_points = 0\n",
    "for row in ask_posts:\n",
    "    total_ask_points += int(row[3])\n",
    "for row in show_posts:\n",
    "    total_show_points += int(row[3])\n",
    "for row in other_posts:\n",
    "    total_other_points += int(row[3])\n",
    "avg_ask_points = total_ask_points/len(ask_posts)\n",
    "avg_show_points = total_show_points/len(show_posts)\n",
    "avg_other_points = total_other_points/len(other_posts)\n",
    "print(\"Average points for ask posts: \",'{:.2f}'.format(avg_ask_points))\n",
    "print(\"Average points for show posts: \",'{:.2f}'.format(avg_show_points))\n",
    "print(\"Average points for other posts: \",'{:.2f}'.format(avg_other_points))"
   ]
  },
  {
   "cell_type": "code",
   "execution_count": 5,
   "metadata": {},
   "outputs": [
    {
     "data": {
      "image/png": "[encoded data removed]",
      "text/plain": [
       "<Figure size 432x288 with 1 Axes>"
      ]
     },
     "metadata": {
      "needs_background": "light"
     },
     "output_type": "display_data"
    },
    {
     "data": {
      "image/png": "[encoded data removed]",
      "text/plain": [
       "<Figure size 432x288 with 1 Axes>"
      ]
     },
     "metadata": {
      "needs_background": "light"
     },
     "output_type": "display_data"
    },
    {
     "name": "stdout",
     "output_type": "stream",
     "text": [
      "[[2, 11.137546468401487], [1, 7.407801418439717], [22, 8.804177545691905], [21, 8.687258687258687], [19, 7.163043478260869], [17, 9.449744463373083], [15, 28.676470588235293], [14, 9.692007797270955], [13, 16.31756756756757], [11, 8.96474358974359], [10, 10.684397163120567], [9, 6.653153153153153], [7, 7.013274336283186], [3, 7.948339483394834], [23, 6.696793002915452], [20, 8.749019607843136], [16, 7.713298791018998], [8, 9.190661478599221], [0, 7.5647840531561465], [18, 7.94299674267101], [12, 12.380116959064328], [4, 9.7119341563786], [6, 6.782051282051282], [5, 8.794258373205741]]\n"
     ]
    }
   ],
   "source": [
    "result_list = []\n",
    "for row in ask_posts:\n",
    "    created_at = row[6]\n",
    "    comments = row[4]\n",
    "    result_list.append([row[6],row[4]])\n",
    "counts_by_hour = {}\n",
    "comments_by_hour = {}\n",
    "dateformat = \"%m/%d/%Y %H:%M\"\n",
    "for row in result_list:\n",
    "    date = row[0]\n",
    "    comments = int(row[1])\n",
    "    formatted_date = dt.datetime.strptime(date,dateformat)\n",
    "    hour = formatted_date.hour\n",
    "    if hour not in counts_by_hour:\n",
    "        counts_by_hour[hour] = 1\n",
    "        comments_by_hour[hour] = comments\n",
    "    else:\n",
    "        counts_by_hour[hour] += 1\n",
    "        comments_by_hour[hour] += comments\n",
    "\n",
    "# Bar Graph\n",
    "Keys = list(counts_by_hour.keys())\n",
    "Values = list(counts_by_hour.values())\n",
    "index = np.arange(len(counts_by_hour))\n",
    "plt.bar(index,Values,tick_label=Keys)\n",
    "plt.xlabel('Hour', fontsize=15)\n",
    "plt.ylabel('Frequency', fontsize=15)\n",
    "plt.xticks(rotation=90)\n",
    "plt.title('Frequency of Ask Posts by Hour',fontsize=20)\n",
    "plt.show()\n",
    "# Bar Graph\n",
    "Keys = list(comments_by_hour.keys())\n",
    "Values = list(comments_by_hour.values())\n",
    "index = np.arange(len(comments_by_hour))\n",
    "plt.bar(index,Values,tick_label=Keys)\n",
    "plt.xlabel('Hour', fontsize=15)\n",
    "plt.ylabel('Frequency', fontsize=15)\n",
    "plt.xticks(rotation=90)\n",
    "plt.title('Comments of Ask Posts by Hour',fontsize=20)\n",
    "plt.show()\n",
    "\n",
    "avg_by_hour = []\n",
    "for row in comments_by_hour:\n",
    "    avg_by_hour.append([row,comments_by_hour[row]/counts_by_hour[row]])\n",
    "print(avg_by_hour)"
   ]
  },
  {
   "cell_type": "code",
   "execution_count": 6,
   "metadata": {},
   "outputs": [
    {
     "name": "stdout",
     "output_type": "stream",
     "text": [
      "[[11.137546468401487, 2], [7.407801418439717, 1], [8.804177545691905, 22], [8.687258687258687, 21], [7.163043478260869, 19], [9.449744463373083, 17], [28.676470588235293, 15], [9.692007797270955, 14], [16.31756756756757, 13], [8.96474358974359, 11], [10.684397163120567, 10], [6.653153153153153, 9], [7.013274336283186, 7], [7.948339483394834, 3], [6.696793002915452, 23], [8.749019607843136, 20], [7.713298791018998, 16], [9.190661478599221, 8], [7.5647840531561465, 0], [7.94299674267101, 18], [12.380116959064328, 12], [9.7119341563786, 4], [6.782051282051282, 6], [8.794258373205741, 5]]\n"
     ]
    }
   ],
   "source": [
    "swap_avg_by_hour = []\n",
    "for row in avg_by_hour:\n",
    "    swap_avg_by_hour.append([row[1],row[0]])\n",
    "print(swap_avg_by_hour)"
   ]
  },
  {
   "cell_type": "code",
   "execution_count": 7,
   "metadata": {},
   "outputs": [
    {
     "name": "stdout",
     "output_type": "stream",
     "text": [
      "Top 5 Hours for Ask Posts Comments\n",
      "15:00:28.68 average comments per post\n",
      "13:00:16.32 average comments per post\n",
      "12:00:12.38 average comments per post\n",
      "02:00:11.14 average comments per post\n",
      "10:00:10.68 average comments per post\n"
     ]
    },
    {
     "data": {
      "image/png": "[encoded data removed]",
      "text/plain": [
       "<Figure size 432x288 with 1 Axes>"
      ]
     },
     "metadata": {
      "needs_background": "light"
     },
     "output_type": "display_data"
    }
   ],
   "source": [
    "sorted_swap = sorted(swap_avg_by_hour,reverse=True)\n",
    "print(\"Top 5 Hours for Ask Posts Comments\")\n",
    "for row in sorted_swap[:5]:\n",
    "    HOUR = dt.datetime.strptime(str(row[1]),\"%H\")\n",
    "    print('{0}:{1:.2f} average comments per post'.format(dt.datetime.strftime(HOUR,\"%H:%M\"),row[0]))\n",
    "\n",
    "# Bar Graph\n",
    "Keys = []\n",
    "Values = []\n",
    "for row in sorted_swap:\n",
    "    Keys.append(row[1])\n",
    "    Values.append(row[0])\n",
    "index = np.arange(len(sorted_swap))\n",
    "plt.bar(index,Values,tick_label=Keys)\n",
    "plt.xlabel('Hour', fontsize=15)\n",
    "plt.ylabel('Avg Comments per post', fontsize=15)\n",
    "plt.xticks()\n",
    "plt.title('Avg Commentsof Ask Posts by Hour',fontsize=20)\n",
    "plt.show()"
   ]
  },
  {
   "cell_type": "markdown",
   "metadata": {},
   "source": [
    "## Conclusion\n",
    "Based on the above analysis, 15:00 hour observed highest number of comments for ask posts. Posting a question at that hour will provide highest chance of receiving comments."
   ]
  }
 ],
 "metadata": {
  "kernelspec": {
   "display_name": "Python 3",
   "language": "python",
   "name": "python3"
  },
  "language_info": {
   "codemirror_mode": {
    "name": "ipython",
    "version": 3
   },
   "file_extension": ".py",
   "mimetype": "text/x-python",
   "name": "python",
   "nbconvert_exporter": "python",
   "pygments_lexer": "ipython3",
   "version": "3.7.6"
  }
 },
 "nbformat": 4,
 "nbformat_minor": 4
}
